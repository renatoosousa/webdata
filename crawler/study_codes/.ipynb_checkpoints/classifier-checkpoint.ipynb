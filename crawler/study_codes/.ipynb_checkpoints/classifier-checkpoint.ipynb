{
 "cells": [
  {
   "cell_type": "code",
   "execution_count": 2,
   "metadata": {},
   "outputs": [
    {
     "name": "stdout",
     "output_type": "stream",
     "text": [
      "[nltk_data] Downloading package punkt to /home/cso/nltk_data...\n",
      "[nltk_data]   Package punkt is already up-to-date!\n"
     ]
    },
    {
     "data": {
      "text/plain": [
       "True"
      ]
     },
     "execution_count": 2,
     "metadata": {},
     "output_type": "execute_result"
    }
   ],
   "source": [
    "import pandas as pd\n",
    "from textblob.classifiers import NaiveBayesClassifier\n",
    "import nltk\n",
    "nltk.download('punkt')"
   ]
  },
  {
   "cell_type": "code",
   "execution_count": 10,
   "metadata": {},
   "outputs": [
    {
     "name": "stdout",
     "output_type": "stream",
     "text": [
      "295\n"
     ]
    }
   ],
   "source": [
    "data = pd.read_csv(\"/home/cso/Documents/webdata/classifier/dataframe/urls2.csv\", delimiter = ',')\n",
    "data_tuple = [tuple(x) for x in data.values]\n",
    "print len(data_tuple)"
   ]
  },
  {
   "cell_type": "code",
   "execution_count": 18,
   "metadata": {},
   "outputs": [],
   "source": [
    "train = data_tuple"
   ]
  },
  {
   "cell_type": "code",
   "execution_count": 19,
   "metadata": {},
   "outputs": [],
   "source": [
    "cl = NaiveBayesClassifier(train)"
   ]
  },
  {
   "cell_type": "code",
   "execution_count": 27,
   "metadata": {},
   "outputs": [
    {
     "name": "stdout",
     "output_type": "stream",
     "text": [
      "0.88\n",
      "0.46\n",
      "0.95\n"
     ]
    }
   ],
   "source": [
    "# cl.accuracy(test)\n",
    "prob_dist = cl.prob_classify(\"https://www.zapimoveis.com.br/oferta/venda+apartamento+3-quartos+gracas+recife+pe+110m2+RS465000/ID-13970327/?oti=1\")\n",
    "print round(prob_dist.prob(1),2)\n",
    "prob_dist = cl.prob_classify(\"http://pe.olx.com.br/grande-recife/terrenos/reserva-de-aldeia-maggiore-condominio-fechado-395861313\")\n",
    "print round(prob_dist.prob(1),2)\n",
    "prob_dist = cl.prob_classify(\"https://www.zapimoveis.com.br/lancamento/apartamento+venda+socorro+jaboatao-dos-guararapes+pe+reserva-villa-natal--pitombeiras+mrv-engenharia-s-a+43m2-49m2/ID-10415/?contato=0&oti=4\")\n",
    "print round(prob_dist.prob(1),2)"
   ]
  },
  {
   "cell_type": "code",
   "execution_count": null,
   "metadata": {},
   "outputs": [],
   "source": []
  }
 ],
 "metadata": {
  "kernelspec": {
   "display_name": "Python 2",
   "language": "python",
   "name": "python2"
  },
  "language_info": {
   "codemirror_mode": {
    "name": "ipython",
    "version": 2
   },
   "file_extension": ".py",
   "mimetype": "text/x-python",
   "name": "python",
   "nbconvert_exporter": "python",
   "pygments_lexer": "ipython2",
   "version": "2.7.6"
  }
 },
 "nbformat": 4,
 "nbformat_minor": 2
}
